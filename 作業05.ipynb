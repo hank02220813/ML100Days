{
 "cells": [
  {
   "cell_type": "code",
   "execution_count": 1,
   "metadata": {},
   "outputs": [],
   "source": [
    "import numpy as np"
   ]
  },
  {
   "cell_type": "code",
   "execution_count": 2,
   "metadata": {},
   "outputs": [],
   "source": [
    "english_score = np.array([55,89,76,65,48,70])\n",
    "\n",
    "math_score = np.array([60,85,60,68,np.nan,60])\n",
    "\n",
    "chinese_score = np.array([65,90,82,72,66,77])"
   ]
  },
  {
   "cell_type": "code",
   "execution_count": 3,
   "metadata": {},
   "outputs": [
    {
     "name": "stdout",
     "output_type": "stream",
     "text": [
      "英文\n",
      "平均67.16666666666667\n",
      "最大值89\n",
      "最小值48\n",
      "標準差13.433995020924426\n"
     ]
    }
   ],
   "source": [
    "A = english_score\n",
    "B = math_score\n",
    "C = chinese_score\n",
    "print(f\"英文\\n平均{np.mean(A)}\")\n",
    "print(f\"最大值{np.max(A)}\")\n",
    "print(f\"最小值{np.min(A)}\")\n",
    "print(f\"標準差{np.std(A)}\")"
   ]
  },
  {
   "cell_type": "code",
   "execution_count": 4,
   "metadata": {},
   "outputs": [
    {
     "name": "stdout",
     "output_type": "stream",
     "text": [
      "數學\n",
      "平均值66.6\n",
      "最大值85.0\n",
      "最小值60.0\n",
      "標準值9.707728879609279\n"
     ]
    }
   ],
   "source": [
    "print(f\"數學\\n平均值{np.nanmean(B)}\")\n",
    "print(f\"最大值{np.nanmax(B)}\")\n",
    "print(f\"最小值{np.nanmin(B)}\")\n",
    "print(f\"標準值{np.nanstd(B)}\")"
   ]
  },
  {
   "cell_type": "code",
   "execution_count": 5,
   "metadata": {},
   "outputs": [
    {
     "name": "stdout",
     "output_type": "stream",
     "text": [
      "國文\n",
      "平均值75.33333333333333\n",
      "最大值90\n",
      "最小值65\n",
      "標準差8.825468196582484\n"
     ]
    }
   ],
   "source": [
    "print(f\"國文\\n平均值{np.mean(C)}\")\n",
    "print(f\"最大值{np.max(C)}\")\n",
    "print(f\"最小值{np.min(C)}\")\n",
    "print(f\"標準差{np.std(C)}\")"
   ]
  },
  {
   "cell_type": "code",
   "execution_count": 6,
   "metadata": {},
   "outputs": [
    {
     "name": "stdout",
     "output_type": "stream",
     "text": [
      "數學補考後\n",
      "平均值64.66666666666667\n",
      "最大值85.0\n",
      "最小值55.0\n",
      "標準值9.860132971832694\n"
     ]
    }
   ],
   "source": [
    "B[4] = 55\n",
    "print(f\"數學補考後\\n平均值{np.nanmean(B)}\")\n",
    "print(f\"最大值{np.nanmax(B)}\")\n",
    "print(f\"最小值{np.nanmin(B)}\")\n",
    "print(f\"標準值{np.nanstd(B)}\")"
   ]
  },
  {
   "cell_type": "code",
   "execution_count": 7,
   "metadata": {},
   "outputs": [
    {
     "data": {
      "text/plain": [
       "array([[1.        , 0.7855563 , 0.97792828],\n",
       "       [0.7855563 , 1.        , 0.74056803],\n",
       "       [0.97792828, 0.74056803, 1.        ]])"
      ]
     },
     "execution_count": 7,
     "metadata": {},
     "output_type": "execute_result"
    }
   ],
   "source": [
    "np.corrcoef([A,B,C])"
   ]
  },
  {
   "cell_type": "code",
   "execution_count": null,
   "metadata": {},
   "outputs": [],
   "source": []
  }
 ],
 "metadata": {
  "kernelspec": {
   "display_name": "Python 3",
   "language": "python",
   "name": "python3"
  },
  "language_info": {
   "codemirror_mode": {
    "name": "ipython",
    "version": 3
   },
   "file_extension": ".py",
   "mimetype": "text/x-python",
   "name": "python",
   "nbconvert_exporter": "python",
   "pygments_lexer": "ipython3",
   "version": "3.8.5"
  }
 },
 "nbformat": 4,
 "nbformat_minor": 4
}
